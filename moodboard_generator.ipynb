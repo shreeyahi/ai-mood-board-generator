# 🧠 AI Mood Board Generator
# by Junior

import matplotlib.pyplot as plt
import random
from PIL import Image

# --- Settings ---
themes = {
    "calm": ["calm_study.jpg", "minimal_desk.jpg", "ocean_morning.jpg", "soft_light.jpg"],
    "tech": ["cyberpunk_city.jpg", "neon_room.jpg", "data_grid.jpg", "future_lines.jpg"],
    "dreamy": ["dreamy_sky.jpg", "cloud_castle.jpg", "pink_haze.jpg", "midnight_glow.jpg"]
}

# --- Ask user for vibe ---
prompt = input("Enter a mood or vibe (e.g., 'calm ocean', 'neon dream', 'minimal tech'): ").lower()

# pick random theme
if "calm" in prompt:
    theme = "calm"
elif "tech" in prompt or "futuristic" in prompt:
    theme = "tech"
elif "dream" in prompt or "sky" in prompt:
    theme = "dreamy"
else:
    theme = random.choice(list(themes.keys()))

print(f"✨ Generating mood board for: {theme.upper()}")

# --- Display grid ---
fig, ax = plt.subplots(2, 2, figsize=(8, 8))
images = random.sample(themes[theme], 4)
for i, axi in enumerate(ax.flat):
    axi.text(0.5, 0.5, images[i], ha='center', va='center', fontsize=12, color='gray')
    axi.axis("off")
plt.suptitle(f"AI Mood Board — {theme.title()}", fontsize=16)
plt.show()
